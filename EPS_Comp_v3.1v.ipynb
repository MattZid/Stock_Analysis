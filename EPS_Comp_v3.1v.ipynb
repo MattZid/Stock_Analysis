{
 "cells": [
  {
   "cell_type": "code",
   "execution_count": 5,
   "id": "3c9f4ee6-17ae-4934-b8fc-12e8747cd59c",
   "metadata": {
    "collapsed": true,
    "jupyter": {
     "outputs_hidden": true
    },
    "scrolled": true
   },
   "outputs": [
    {
     "name": "stdout",
     "output_type": "stream",
     "text": [
      "Requirement already satisfied: yfinance in /opt/conda/lib/python3.11/site-packages (0.2.65)\n",
      "Requirement already satisfied: pandas>=1.3.0 in /opt/conda/lib/python3.11/site-packages (from yfinance) (2.0.3)\n",
      "Requirement already satisfied: numpy>=1.16.5 in /opt/conda/lib/python3.11/site-packages (from yfinance) (1.24.4)\n",
      "Requirement already satisfied: requests>=2.31 in /opt/conda/lib/python3.11/site-packages (from yfinance) (2.31.0)\n",
      "Requirement already satisfied: multitasking>=0.0.7 in /opt/conda/lib/python3.11/site-packages (from yfinance) (0.0.12)\n",
      "Requirement already satisfied: platformdirs>=2.0.0 in /opt/conda/lib/python3.11/site-packages (from yfinance) (3.11.0)\n",
      "Requirement already satisfied: pytz>=2022.5 in /opt/conda/lib/python3.11/site-packages (from yfinance) (2023.3.post1)\n",
      "Requirement already satisfied: frozendict>=2.3.4 in /opt/conda/lib/python3.11/site-packages (from yfinance) (2.4.6)\n",
      "Requirement already satisfied: peewee>=3.16.2 in /opt/conda/lib/python3.11/site-packages (from yfinance) (3.18.2)\n",
      "Requirement already satisfied: beautifulsoup4>=4.11.1 in /opt/conda/lib/python3.11/site-packages (from yfinance) (4.12.2)\n",
      "Requirement already satisfied: curl_cffi>=0.7 in /opt/conda/lib/python3.11/site-packages (from yfinance) (0.12.0)\n",
      "Requirement already satisfied: protobuf>=3.19.0 in /opt/conda/lib/python3.11/site-packages (from yfinance) (4.24.3)\n",
      "Requirement already satisfied: websockets>=13.0 in /opt/conda/lib/python3.11/site-packages (from yfinance) (15.0.1)\n",
      "Requirement already satisfied: soupsieve>1.2 in /opt/conda/lib/python3.11/site-packages (from beautifulsoup4>=4.11.1->yfinance) (2.5)\n",
      "Requirement already satisfied: cffi>=1.12.0 in /opt/conda/lib/python3.11/site-packages (from curl_cffi>=0.7->yfinance) (1.16.0)\n",
      "Requirement already satisfied: certifi>=2024.2.2 in /opt/conda/lib/python3.11/site-packages (from curl_cffi>=0.7->yfinance) (2025.7.14)\n",
      "Requirement already satisfied: python-dateutil>=2.8.2 in /opt/conda/lib/python3.11/site-packages (from pandas>=1.3.0->yfinance) (2.8.2)\n",
      "Requirement already satisfied: tzdata>=2022.1 in /opt/conda/lib/python3.11/site-packages (from pandas>=1.3.0->yfinance) (2023.3)\n",
      "Requirement already satisfied: charset-normalizer<4,>=2 in /opt/conda/lib/python3.11/site-packages (from requests>=2.31->yfinance) (3.3.0)\n",
      "Requirement already satisfied: idna<4,>=2.5 in /opt/conda/lib/python3.11/site-packages (from requests>=2.31->yfinance) (3.4)\n",
      "Requirement already satisfied: urllib3<3,>=1.21.1 in /opt/conda/lib/python3.11/site-packages (from requests>=2.31->yfinance) (2.0.7)\n",
      "Requirement already satisfied: pycparser in /opt/conda/lib/python3.11/site-packages (from cffi>=1.12.0->curl_cffi>=0.7->yfinance) (2.21)\n",
      "Requirement already satisfied: six>=1.5 in /opt/conda/lib/python3.11/site-packages (from python-dateutil>=2.8.2->pandas>=1.3.0->yfinance) (1.16.0)\n",
      "Note: you may need to restart the kernel to use updated packages.\n"
     ]
    }
   ],
   "source": [
    "#pip install yfinance"
   ]
  },
  {
   "cell_type": "code",
   "execution_count": 2,
   "id": "edf75578-3c5d-46cc-bac2-e5a11acded8b",
   "metadata": {},
   "outputs": [],
   "source": [
    "import yfinance as yf\n",
    "import matplotlib.pyplot as plt\n",
    "import pandas as pd"
   ]
  },
  {
   "cell_type": "code",
   "execution_count": 3,
   "id": "8a2742f2-2b33-404f-98fb-892209befeeb",
   "metadata": {},
   "outputs": [],
   "source": [
    "def compare_eps():\n",
    "    try:\n",
    "        print(\"Provide stock tickers to compare:\")\n",
    "        user_tick1 = input()\n",
    "        user_tick2 = input()\n",
    "\n",
    "        #format user inputs\n",
    "        user_tick1 = str.upper(user_tick1).strip()\n",
    "        user_tick2 = str.upper(user_tick2).strip()\n",
    "\n",
    "        #ticker instances\n",
    "        ticker1 = yf.Ticker(user_tick1)\n",
    "        ticker2 = yf.Ticker(user_tick2)\n",
    "\n",
    "        #accessing ticker attribute that returns dataframe of EPS data\n",
    "        eps_1 = ticker1.earnings_history\n",
    "        eps_2 = ticker2.earnings_history\n",
    "        eps_1.reset_index(inplace = True)\n",
    "        eps_2.reset_index(inplace = True)\n",
    "\n",
    "        #Percentage Delta between Actual and Estimate\n",
    "        eps_1_dperc = eps_1[['quarter','surprisePercent']].copy()\n",
    "        eps_2_dperc = eps_2[['quarter','surprisePercent']].copy()\n",
    "\n",
    "        #color for percentage delta based on value\n",
    "        eps_1_dperc['color'] = ['r' if x < 0 else 'g' for x in eps_1_dperc['surprisePercent']]\n",
    "        eps_2_dperc['color'] = ['r' if x < 0 else 'g' for x in eps_2_dperc['surprisePercent']]\n",
    "       \n",
    "        #setting y axis range based on selected stock tickers\n",
    "        y_min = min(min(eps_1['epsEstimate']),min(eps_1['epsActual']),min(eps_2['epsEstimate']),min(eps_2['epsActual']))\n",
    "        y_max = max(max(eps_1['epsEstimate']),max(eps_1['epsActual']),max(eps_2['epsEstimate']),max(eps_2['epsActual']))\n",
    "\n",
    "        y_min_perc = min(min(eps_1_dperc['surprisePercent']),min(eps_2['surprisePercent']))\n",
    "        y_max_perc = max(max(eps_1_dperc['surprisePercent']),max(eps_2_dperc['surprisePercent']))\n",
    "        \n",
    "        #create side by side visualization\n",
    "        fig=plt.figure(figsize=(12,8))\n",
    "        plt.suptitle(f'{user_tick1} vs {user_tick2} EPS, Quarterly', fontsize=16)\n",
    "\n",
    "        #subplot one\n",
    "        #act1, est1 are unpacked and stored to build chart legend\n",
    "        plt.subplot(2,2,1)           \n",
    "        act1,=plt.plot(eps_1['quarter'],eps_1['epsActual'],linestyle='none',marker='o',color='tab:blue')\n",
    "        est1,=plt.plot(eps_1['quarter'],eps_1['epsEstimate'], linestyle='none', marker='o',color='tab:orange')\n",
    "        plt.axis([min(min(eps_1['quarter']),min(eps_2['quarter']))+pd.DateOffset(months=-1),max(max(eps_1['quarter']),max(eps_2['quarter']))+pd.DateOffset(months=1),y_min-1,y_max+2])\n",
    "        plt.ylabel(\"EPS $\")\n",
    "        plt.xticks(rotation=25)\n",
    "        plt.title(f\"{user_tick1}\")\n",
    "\n",
    "        #subplot two\n",
    "        plt.subplot(2,2,2)           \n",
    "        plt.plot(eps_2['quarter'],eps_2['epsActual'],linestyle='none',marker='o',color='tab:blue')\n",
    "        plt.plot(eps_2['quarter'],eps_2['epsEstimate'],linestyle='none',marker='o',color='tab:orange')\n",
    "        plt.axis([min(min(eps_1['quarter']),min(eps_2['quarter']))+pd.DateOffset(months=-1),max(max(eps_1['quarter']),max(eps_2['quarter']))+pd.DateOffset(months=1),y_min-1,y_max+2])\n",
    "        plt.xticks(rotation=25)\n",
    "        plt.title(f\"{user_tick2}\")\n",
    "\n",
    "        plt.legend((act1,est1),('actual','estimate'),loc='upper right')\n",
    "\n",
    "\n",
    "        #subplot three\n",
    "        plt.subplot(2,2,3)           \n",
    "        plt.bar(eps_1_dperc['quarter'],eps_1_dperc['surprisePercent'],width=25,color=eps_1_dperc['color'])\n",
    "        plt.axis([min(min(eps_1_dperc['quarter']),min(eps_2_dperc['quarter']))+pd.DateOffset(months=-1),max(max(eps_1_dperc['quarter']),max(eps_2_dperc['quarter']))+pd.DateOffset(months=1),y_min_perc-.1,y_max_perc+.1])\n",
    "        plt.xticks(rotation=25)\n",
    "        plt.xlabel(\"Date\")\n",
    "        plt.ylabel(\"Percent Delta\")\n",
    "        plt.title(f\"{user_tick1}\")\n",
    "\n",
    "        #subplot four\n",
    "        plt.subplot(2,2,4)           \n",
    "        plt.bar(eps_2_dperc['quarter'],eps_2_dperc['surprisePercent'],width=25,color=eps_2_dperc['color'])\n",
    "        plt.axis([min(min(eps_1_dperc['quarter']),min(eps_2_dperc['quarter']))+pd.DateOffset(months=-1),max(max(eps_1_dperc['quarter']),max(eps_2_dperc['quarter']))+pd.DateOffset(months=1),y_min_perc-.1,y_max_perc+.1])\n",
    "        plt.xticks(rotation=25)\n",
    "        plt.xlabel(\"Date\")\n",
    "        plt.title(f\"{user_tick2}\")\n",
    "        \n",
    "        plt.tight_layout()  \n",
    "\n",
    "    \n",
    "    #error message\n",
    "    except:\n",
    "        print()\n",
    "        print(\"A stock ticker entered is invalid.  Try again.\")"
   ]
  },
  {
   "cell_type": "code",
   "execution_count": null,
   "id": "53799f7e-97e0-4034-8283-e05e694f76e3",
   "metadata": {},
   "outputs": [
    {
     "name": "stdout",
     "output_type": "stream",
     "text": [
      "Provide stock tickers to compare:\n"
     ]
    }
   ],
   "source": [
    "compare_eps()"
   ]
  },
  {
   "cell_type": "code",
   "execution_count": null,
   "id": "935c0e0a-ed62-4331-b9fe-644ef331dd5d",
   "metadata": {},
   "outputs": [],
   "source": []
  }
 ],
 "metadata": {
  "kernelspec": {
   "display_name": "Python 3 (ipykernel)",
   "language": "python",
   "name": "python3"
  },
  "language_info": {
   "codemirror_mode": {
    "name": "ipython",
    "version": 3
   },
   "file_extension": ".py",
   "mimetype": "text/x-python",
   "name": "python",
   "nbconvert_exporter": "python",
   "pygments_lexer": "ipython3",
   "version": "3.11.6"
  }
 },
 "nbformat": 4,
 "nbformat_minor": 5
}
